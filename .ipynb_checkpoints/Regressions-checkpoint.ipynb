{
 "cells": [
  {
   "cell_type": "code",
   "execution_count": 180,
   "metadata": {},
   "outputs": [],
   "source": [
    "import pandas as pd\n",
    "import numpy as np\n",
    "import matplotlib.pyplot as plt\n",
    "import seaborn as sns\n",
    "from sklearn import metrics\n",
    "import statsmodels.api as sm\n",
    "%matplotlib inline"
   ]
  },
  {
   "cell_type": "code",
   "execution_count": 115,
   "metadata": {},
   "outputs": [],
   "source": [
    "df_county = pd.read_csv(\"df_county.csv\")\n",
    "# X = df.iloc[:,1:28]\n",
    "# y = df.iloc[:,0]\n",
    "df = df_county.drop(columns=['Unnamed: 0','county','Pop.Density','Pop.Density.Normalized','FIPS'])\n",
    "X = df.iloc[:,1:28]\n",
    "y = df.iloc[:,0].to_numpy().reshape(-1,1);"
   ]
  },
  {
   "cell_type": "markdown",
   "metadata": {},
   "source": [
    "## Linear Regression"
   ]
  },
  {
   "cell_type": "code",
   "execution_count": 134,
   "metadata": {},
   "outputs": [
    {
     "name": "stdout",
     "output_type": "stream",
     "text": [
      "                            OLS Regression Results                            \n",
      "==============================================================================\n",
      "Dep. Variable:             num_stores   R-squared:                       0.979\n",
      "Model:                            OLS   Adj. R-squared:                  0.962\n",
      "Method:                 Least Squares   F-statistic:                     57.66\n",
      "Date:                Sat, 16 May 2020   Prob (F-statistic):           2.61e-10\n",
      "Time:                        21:40:06   Log-Likelihood:                -45.137\n",
      "No. Observations:                  28   AIC:                             116.3\n",
      "Df Residuals:                      15   BIC:                             133.6\n",
      "Df Model:                          12                                         \n",
      "Covariance Type:            nonrobust                                         \n",
      "===========================================================================================\n",
      "                              coef    std err          t      P>|t|      [0.025      0.975]\n",
      "-------------------------------------------------------------------------------------------\n",
      "const                      15.9042      6.374      2.495      0.025       2.318      29.490\n",
      "Total.Pop               -2.091e-05   3.77e-05     -0.555      0.587      -0.000    5.94e-05\n",
      "Household                6.144e-05   2.78e-05      2.207      0.043     2.1e-06       0.000\n",
      "Group.Quarters          -8.234e-05   6.37e-05     -1.292      0.216      -0.000    5.35e-05\n",
      "Total.HU                -5.671e-05      0.000     -0.538      0.599      -0.000       0.000\n",
      "Single.Detached             0.0001   4.25e-05      3.511      0.003    5.86e-05       0.000\n",
      "Single.Attached             0.0004   9.02e-05      4.717      0.000       0.000       0.001\n",
      "Two.to.Four             -2.184e-05   4.86e-05     -0.449      0.660      -0.000    8.19e-05\n",
      "Five.Plus                   0.0001    3.5e-05      3.680      0.002    5.42e-05       0.000\n",
      "Mobile.Homes               -0.0007      0.000     -3.597      0.003      -0.001      -0.000\n",
      "Occupied                   -0.0002      0.000     -1.236      0.235      -0.000       0.000\n",
      "Vacancy.Rate              -13.4950     19.913     -0.678      0.508     -55.939      28.949\n",
      "Persons.per.Household      -4.9339      2.006     -2.460      0.027      -9.209      -0.659\n",
      "size                     5.781e-05   9.81e-05      0.589      0.564      -0.000       0.000\n",
      "median_household_income    -0.0094      0.026     -0.366      0.719      -0.064       0.045\n",
      "==============================================================================\n",
      "Omnibus:                        0.696   Durbin-Watson:                   1.711\n",
      "Prob(Omnibus):                  0.706   Jarque-Bera (JB):                0.575\n",
      "Skew:                           0.326   Prob(JB):                        0.750\n",
      "Kurtosis:                       2.740   Cond. No.                     3.16e+17\n",
      "==============================================================================\n",
      "\n",
      "Warnings:\n",
      "[1] Standard Errors assume that the covariance matrix of the errors is correctly specified.\n",
      "[2] The smallest eigenvalue is 1.18e-21. This might indicate that there are\n",
      "strong multicollinearity problems or that the design matrix is singular.\n"
     ]
    }
   ],
   "source": [
    "X = sm.add_constant(X)\n",
    "est = sm.OLS(y, X).fit()\n",
    "print(est.summary())"
   ]
  },
  {
   "cell_type": "code",
   "execution_count": 145,
   "metadata": {},
   "outputs": [
    {
     "name": "stdout",
     "output_type": "stream",
     "text": [
      "Residual MSE: 2.74663458653563\n",
      "Total MSE: 71.9153439153439\n"
     ]
    }
   ],
   "source": [
    "print(\"Residual MSE:\",est.mse_resid)\n",
    "print(\"Total MSE:\", est.mse_total)"
   ]
  },
  {
   "cell_type": "markdown",
   "metadata": {},
   "source": [
    "### Findings\n",
    "- R_squared of 0.979 means 97.9% of the variance in the number of stores is explained by our explanatory variables.\n",
    "- Out of all variables, the following are variables that are statistically significant*:\n",
    "    - Household\n",
    "    - Single Detached\n",
    "    - Single Attached\n",
    "    - Five Plus\n",
    "    - Mobile Homes\n",
    "    - Persons per Household\n",
    "\n",
    "*Assuming that the variable does not determine the number of stores, it is very unlikely that we will obtain the results at least as extreme as the results actually observed in the data."
   ]
  },
  {
   "cell_type": "markdown",
   "metadata": {},
   "source": [
    "## Model Training"
   ]
  },
  {
   "cell_type": "code",
   "execution_count": 161,
   "metadata": {},
   "outputs": [],
   "source": [
    "from sklearn.model_selection import train_test_split\n",
    "from sklearn.metrics import r2_score\n",
    "df_county = pd.read_csv(\"df_county.csv\")\n",
    "\n",
    "df = df_county.drop(columns=['Unnamed: 0','county','Pop.Density','Pop.Density.Normalized','FIPS'])\n",
    "X = df.iloc[:,1:28]\n",
    "y = df.iloc[:,0]\n",
    "X_train, X_test, y_train, y_test = train_test_split(X,y,test_size=0.2);"
   ]
  },
  {
   "cell_type": "code",
   "execution_count": 162,
   "metadata": {},
   "outputs": [
    {
     "name": "stdout",
     "output_type": "stream",
     "text": [
      "10.764306070370047\n",
      "[ 5.59934796e-05 -2.02459900e-05  7.62386835e-05 -4.47530299e-05\n",
      "  3.24159468e-05  3.07321343e-04  2.85530310e-05 -5.49757196e-05\n",
      " -3.58070719e-04 -6.65598397e-05 -8.88130395e+00 -4.48723838e+00\n",
      "  1.07686895e-04  3.14995139e-02]\n"
     ]
    }
   ],
   "source": [
    "from sklearn.linear_model import LinearRegression\n",
    "regressor = LinearRegression()\n",
    "regressor.fit(X_train,y_train)\n",
    "print(regressor.intercept_)\n",
    "print(regressor.coef_)"
   ]
  },
  {
   "cell_type": "code",
   "execution_count": 163,
   "metadata": {},
   "outputs": [
    {
     "data": {
      "text/html": [
       "<div>\n",
       "<style scoped>\n",
       "    .dataframe tbody tr th:only-of-type {\n",
       "        vertical-align: middle;\n",
       "    }\n",
       "\n",
       "    .dataframe tbody tr th {\n",
       "        vertical-align: top;\n",
       "    }\n",
       "\n",
       "    .dataframe thead th {\n",
       "        text-align: right;\n",
       "    }\n",
       "</style>\n",
       "<table border=\"1\" class=\"dataframe\">\n",
       "  <thead>\n",
       "    <tr style=\"text-align: right;\">\n",
       "      <th></th>\n",
       "      <th>Coefficient</th>\n",
       "    </tr>\n",
       "  </thead>\n",
       "  <tbody>\n",
       "    <tr>\n",
       "      <th>Total.Pop</th>\n",
       "      <td>0.000056</td>\n",
       "    </tr>\n",
       "    <tr>\n",
       "      <th>Household</th>\n",
       "      <td>-0.000020</td>\n",
       "    </tr>\n",
       "    <tr>\n",
       "      <th>Group.Quarters</th>\n",
       "      <td>0.000076</td>\n",
       "    </tr>\n",
       "    <tr>\n",
       "      <th>Total.HU</th>\n",
       "      <td>-0.000045</td>\n",
       "    </tr>\n",
       "    <tr>\n",
       "      <th>Single.Detached</th>\n",
       "      <td>0.000032</td>\n",
       "    </tr>\n",
       "    <tr>\n",
       "      <th>Single.Attached</th>\n",
       "      <td>0.000307</td>\n",
       "    </tr>\n",
       "    <tr>\n",
       "      <th>Two.to.Four</th>\n",
       "      <td>0.000029</td>\n",
       "    </tr>\n",
       "    <tr>\n",
       "      <th>Five.Plus</th>\n",
       "      <td>-0.000055</td>\n",
       "    </tr>\n",
       "    <tr>\n",
       "      <th>Mobile.Homes</th>\n",
       "      <td>-0.000358</td>\n",
       "    </tr>\n",
       "    <tr>\n",
       "      <th>Occupied</th>\n",
       "      <td>-0.000067</td>\n",
       "    </tr>\n",
       "    <tr>\n",
       "      <th>Vacancy.Rate</th>\n",
       "      <td>-8.881304</td>\n",
       "    </tr>\n",
       "    <tr>\n",
       "      <th>Persons.per.Household</th>\n",
       "      <td>-4.487238</td>\n",
       "    </tr>\n",
       "    <tr>\n",
       "      <th>size</th>\n",
       "      <td>0.000108</td>\n",
       "    </tr>\n",
       "    <tr>\n",
       "      <th>median_household_income</th>\n",
       "      <td>0.031500</td>\n",
       "    </tr>\n",
       "  </tbody>\n",
       "</table>\n",
       "</div>"
      ],
      "text/plain": [
       "                         Coefficient\n",
       "Total.Pop                   0.000056\n",
       "Household                  -0.000020\n",
       "Group.Quarters              0.000076\n",
       "Total.HU                   -0.000045\n",
       "Single.Detached             0.000032\n",
       "Single.Attached             0.000307\n",
       "Two.to.Four                 0.000029\n",
       "Five.Plus                  -0.000055\n",
       "Mobile.Homes               -0.000358\n",
       "Occupied                   -0.000067\n",
       "Vacancy.Rate               -8.881304\n",
       "Persons.per.Household      -4.487238\n",
       "size                        0.000108\n",
       "median_household_income     0.031500"
      ]
     },
     "execution_count": 163,
     "metadata": {},
     "output_type": "execute_result"
    }
   ],
   "source": [
    "coeff_df = pd.DataFrame(regressor.coef_, X.columns, columns=['Coefficient'])  \n",
    "coeff_df"
   ]
  },
  {
   "cell_type": "code",
   "execution_count": 164,
   "metadata": {},
   "outputs": [],
   "source": [
    "y_pred = regressor.predict(X_test)\n",
    "df = pd.DataFrame({'Actual': y_test, 'Predicted': y_pred});"
   ]
  },
  {
   "cell_type": "code",
   "execution_count": 165,
   "metadata": {},
   "outputs": [
    {
     "data": {
      "image/png": "[encoded data removed]",
      "text/plain": [
       "<Figure size 720x576 with 1 Axes>"
      ]
     },
     "metadata": {
      "needs_background": "light"
     },
     "output_type": "display_data"
    }
   ],
   "source": [
    "df.plot(kind='bar',figsize=(10,8))\n",
    "plt.grid(which='major', linestyle='-', linewidth='0.5', color='green')\n",
    "plt.grid(which='minor', linestyle=':', linewidth='0.5', color='black')\n",
    "plt.show()"
   ]
  },
  {
   "cell_type": "markdown",
   "metadata": {},
   "source": [
    "### Errors"
   ]
  },
  {
   "cell_type": "code",
   "execution_count": 166,
   "metadata": {},
   "outputs": [
    {
     "name": "stdout",
     "output_type": "stream",
     "text": [
      "Mean Absolute Error: 9.01911975506305\n",
      "Mean Squared Error: 330.3046170121084\n",
      "Root Mean Squared Error: 18.174284497941272\n",
      "R-Squared: -0.5400811050946641\n"
     ]
    }
   ],
   "source": [
    "print('Mean Absolute Error:', metrics.mean_absolute_error(y_test, y_pred))  \n",
    "print('Mean Squared Error:', metrics.mean_squared_error(y_test, y_pred))  \n",
    "print('Root Mean Squared Error:', np.sqrt(metrics.mean_squared_error(y_test, y_pred)))\n",
    "print('R-Squared:', metrics.r2_score(df['Actual'],df['Predicted']))"
   ]
  }
 ],
 "metadata": {
  "kernelspec": {
   "display_name": "Python 3",
   "language": "python",
   "name": "python3"
  },
  "language_info": {
   "codemirror_mode": {
    "name": "ipython",
    "version": 3
   },
   "file_extension": ".py",
   "mimetype": "text/x-python",
   "name": "python",
   "nbconvert_exporter": "python",
   "pygments_lexer": "ipython3",
   "version": "3.7.4"
  }
 },
 "nbformat": 4,
 "nbformat_minor": 4
}
