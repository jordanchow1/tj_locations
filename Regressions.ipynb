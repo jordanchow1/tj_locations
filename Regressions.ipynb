{
 "cells": [
  {
   "cell_type": "code",
   "execution_count": 198,
   "metadata": {},
   "outputs": [],
   "source": [
    "import pandas as pd\n",
    "import numpy as np\n",
    "import matplotlib.pyplot as plt\n",
    "import seaborn as sn\n",
    "from sklearn.linear_model import LinearRegression\n",
    "from sklearn.ensemble import RandomForestRegressor\n",
    "from sklearn.model_selection import train_test_split\n",
    "from sklearn.metrics import confusion_matrix\n",
    "from sklearn.model_selection import cross_val_score\n",
    "from sklearn.metrics import accuracy_score\n",
    "import statsmodels.api as sm\n",
    "from statsmodels.genmod.families import Poisson\n",
    "%matplotlib inline"
   ]
  },
  {
   "cell_type": "code",
   "execution_count": 300,
   "metadata": {},
   "outputs": [],
   "source": [
    "df_county = pd.read_csv(\"df_county.csv\")\n",
    "df_county = df_county.drop(columns=['Unnamed: 0','county','Pop.Density','Pop.Density.Normalized','FIPS'])\n",
    "df_county.columns = df_county.columns.str.replace('.','_')\n",
    "X = df_county.iloc[:,1:28]\n",
    "y = np.array(df_county.iloc[:,0]).reshape(-1,1)"
   ]
  },
  {
   "cell_type": "markdown",
   "metadata": {},
   "source": [
    "### Histogram of the Number of Stores in Each County"
   ]
  },
  {
   "cell_type": "code",
   "execution_count": 5,
   "metadata": {},
   "outputs": [
    {
     "data": {
      "text/plain": [
       "(array([19.,  5.,  2.,  0.,  1.,  0.,  0.,  0.,  0.,  1.]),\n",
       " array([ 1. ,  5.1,  9.2, 13.3, 17.4, 21.5, 25.6, 29.7, 33.8, 37.9, 42. ]),\n",
       " <a list of 10 Patch objects>)"
      ]
     },
     "execution_count": 5,
     "metadata": {},
     "output_type": "execute_result"
    },
    {
     "data": {
      "image/png": "[encoded data removed]",
      "text/plain": [
       "<Figure size 432x288 with 1 Axes>"
      ]
     },
     "metadata": {
      "needs_background": "light"
     },
     "output_type": "display_data"
    }
   ],
   "source": [
    "plt.hist(df_county['num_stores'])"
   ]
  },
  {
   "cell_type": "markdown",
   "metadata": {},
   "source": [
    "The number of stores in each county seems to follow a Poisson distribution."
   ]
  },
  {
   "cell_type": "markdown",
   "metadata": {},
   "source": [
    "### Examining Residuals for the Linear Model"
   ]
  },
  {
   "cell_type": "code",
   "execution_count": 233,
   "metadata": {},
   "outputs": [
    {
     "data": {
      "text/plain": [
       "<matplotlib.collections.PathCollection at 0x1a21e4d7d0>"
      ]
     },
     "execution_count": 233,
     "metadata": {},
     "output_type": "execute_result"
    },
    {
     "data": {
      "image/png": "[encoded data removed]",
      "text/plain": [
       "<Figure size 432x288 with 1 Axes>"
      ]
     },
     "metadata": {},
     "output_type": "display_data"
    }
   ],
   "source": [
    "plt.scatter(y=est.resid,x = y)"
   ]
  },
  {
   "cell_type": "markdown",
   "metadata": {},
   "source": [
    "It is clear that the residuals (squared distance between the predicted Y value and the actual Y value) decrease as the actual y values increase. In other words, there's less variation in the number of stores between counties the more stores they have."
   ]
  },
  {
   "cell_type": "markdown",
   "metadata": {},
   "source": [
    "## Linear Regression"
   ]
  },
  {
   "cell_type": "code",
   "execution_count": 301,
   "metadata": {},
   "outputs": [
    {
     "name": "stdout",
     "output_type": "stream",
     "text": [
      "                            OLS Regression Results                            \n",
      "==============================================================================\n",
      "Dep. Variable:                      y   R-squared:                       0.979\n",
      "Model:                            OLS   Adj. R-squared:                  0.962\n",
      "Method:                 Least Squares   F-statistic:                     57.66\n",
      "Date:                Sun, 24 May 2020   Prob (F-statistic):           2.61e-10\n",
      "Time:                        23:14:02   Log-Likelihood:                -45.137\n",
      "No. Observations:                  28   AIC:                             116.3\n",
      "Df Residuals:                      15   BIC:                             133.6\n",
      "Df Model:                          12                                         \n",
      "Covariance Type:            nonrobust                                         \n",
      "===========================================================================================\n",
      "                              coef    std err          t      P>|t|      [0.025      0.975]\n",
      "-------------------------------------------------------------------------------------------\n",
      "const                      15.9042      6.374      2.495      0.025       2.318      29.490\n",
      "Total_Pop               -2.091e-05   3.77e-05     -0.555      0.587      -0.000    5.94e-05\n",
      "Household                6.144e-05   2.78e-05      2.207      0.043     2.1e-06       0.000\n",
      "Group_Quarters          -8.234e-05   6.37e-05     -1.292      0.216      -0.000    5.35e-05\n",
      "Total_HU                -5.671e-05      0.000     -0.538      0.599      -0.000       0.000\n",
      "Single_Detached             0.0001   4.25e-05      3.511      0.003    5.86e-05       0.000\n",
      "Single_Attached             0.0004   9.02e-05      4.717      0.000       0.000       0.001\n",
      "Two_to_Four             -2.184e-05   4.86e-05     -0.449      0.660      -0.000    8.19e-05\n",
      "Five_Plus                   0.0001    3.5e-05      3.680      0.002    5.42e-05       0.000\n",
      "Mobile_Homes               -0.0007      0.000     -3.597      0.003      -0.001      -0.000\n",
      "Occupied                   -0.0002      0.000     -1.236      0.235      -0.000       0.000\n",
      "Vacancy_Rate              -13.4950     19.913     -0.678      0.508     -55.939      28.949\n",
      "Persons_per_Household      -4.9339      2.006     -2.460      0.027      -9.209      -0.659\n",
      "size                     5.781e-05   9.81e-05      0.589      0.564      -0.000       0.000\n",
      "median_household_income    -0.0094      0.026     -0.366      0.719      -0.064       0.045\n",
      "==============================================================================\n",
      "Omnibus:                        0.696   Durbin-Watson:                   1.711\n",
      "Prob(Omnibus):                  0.706   Jarque-Bera (JB):                0.575\n",
      "Skew:                           0.326   Prob(JB):                        0.750\n",
      "Kurtosis:                       2.740   Cond. No.                     3.16e+17\n",
      "==============================================================================\n",
      "\n",
      "Warnings:\n",
      "[1] Standard Errors assume that the covariance matrix of the errors is correctly specified.\n",
      "[2] The smallest eigenvalue is 1.18e-21. This might indicate that there are\n",
      "strong multicollinearity problems or that the design matrix is singular.\n"
     ]
    }
   ],
   "source": [
    "X = sm.add_constant(X)\n",
    "est = sm.OLS(y, X).fit()\n",
    "print(est.summary())"
   ]
  },
  {
   "cell_type": "markdown",
   "metadata": {},
   "source": [
    "### Findings\n",
    "- R_squared of 0.979 means 97.9% of the variance in the number of stores is explained by our explanatory variables.\n",
    "- Out of all variables, the following are variables that are statistically significant*:\n",
    "    - Household\n",
    "    - Single Detached\n",
    "    - Single Attached\n",
    "    - Five Plus\n",
    "    - Mobile Homes\n",
    "    - Persons per Household\n",
    "\n",
    "*Assuming that the variable does not determine the number of stores, it is very unlikely that we will obtain the results at least as extreme as the results actually observed in the data."
   ]
  },
  {
   "cell_type": "markdown",
   "metadata": {},
   "source": [
    "### K-Fold Cross Validation"
   ]
  },
  {
   "cell_type": "markdown",
   "metadata": {},
   "source": [
    "#### Linear Regression"
   ]
  },
  {
   "cell_type": "code",
   "execution_count": 374,
   "metadata": {},
   "outputs": [
    {
     "name": "stdout",
     "output_type": "stream",
     "text": [
      "Accuracy Score: 0.03571428571428571\n"
     ]
    }
   ],
   "source": [
    "folds = KFold(n_splits=4)\n",
    "linear_scores = []\n",
    "\n",
    "for train_index, test_index in folds.split(X,y):\n",
    "    X_train, X_test, y_train, y_test = X.iloc[train_index,:], X.iloc[test_index,:], \\\n",
    "                                       y[train_index], y[test_index]\n",
    "    y_pred = LinearRegression().fit(X_train,y_train).predict(X_test).astype(int)\n",
    "    linear_scores.append(accuracy_score(y_test,y_pred))\n",
    "    \n",
    "print(\"Accuracy Score:\",np.mean(linear_scores))"
   ]
  },
  {
   "cell_type": "markdown",
   "metadata": {},
   "source": [
    "#### Poisson Regression"
   ]
  },
  {
   "cell_type": "code",
   "execution_count": 375,
   "metadata": {},
   "outputs": [
    {
     "name": "stdout",
     "output_type": "stream",
     "text": [
      "Accuracy score: 0.25\n"
     ]
    }
   ],
   "source": [
    "folds = KFold(n_splits=28)\n",
    "poisson_scores = []\n",
    "\n",
    "for train_index, test_index in folds.split(X,y):\n",
    "    X_train, X_test, y_train, y_test = X.iloc[train_index,:], X.iloc[test_index,:], \\\n",
    "                                       y[train_index], y[test_index]\n",
    "    y_pred = sm.GLM(y_train,X_train,family=Poisson()).fit().predict(X_test).astype(int)\n",
    "    poisson_scores.append(accuracy_score(y_test,y_pred))\n",
    "    \n",
    "print(\"Accuracy score:\", np.mean(poisson_scores))"
   ]
  },
  {
   "cell_type": "markdown",
   "metadata": {},
   "source": [
    "#### Random Forest Regressor"
   ]
  },
  {
   "cell_type": "code",
   "execution_count": 377,
   "metadata": {},
   "outputs": [
    {
     "name": "stdout",
     "output_type": "stream",
     "text": [
      "Accuracy score: 0.35714285714285715\n"
     ]
    }
   ],
   "source": [
    "folds = KFold(n_splits=28)\n",
    "rf_scores = []\n",
    "\n",
    "for train_index, test_index in folds.split(X,y):\n",
    "    X_train, X_test, y_train, y_test = X.iloc[train_index,:], X.iloc[test_index,:], \\\n",
    "                                       y[train_index], y[test_index]\n",
    "    y_train = y_train.reshape(-1,)\n",
    "    y_test = y_test.reshape(-1,)\n",
    "    y_pred = RandomForestRegressor(n_estimators=40).fit(X_train,y_train).predict(X_test).astype(int)\n",
    "    rf_scores.append(accuracy_score(y_test,y_pred))\n",
    "    \n",
    "print(\"Accuracy score:\", np.mean(rf_scores))"
   ]
  },
  {
   "cell_type": "code",
   "execution_count": null,
   "metadata": {},
   "outputs": [],
   "source": []
  }
 ],
 "metadata": {
  "kernelspec": {
   "display_name": "Python 3",
   "language": "python",
   "name": "python3"
  },
  "language_info": {
   "codemirror_mode": {
    "name": "ipython",
    "version": 3
   },
   "file_extension": ".py",
   "mimetype": "text/x-python",
   "name": "python",
   "nbconvert_exporter": "python",
   "pygments_lexer": "ipython3",
   "version": "3.7.4"
  }
 },
 "nbformat": 4,
 "nbformat_minor": 4
}
