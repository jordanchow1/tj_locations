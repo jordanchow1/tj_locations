{
 "cells": [
  {
   "cell_type": "code",
   "execution_count": 1,
   "metadata": {},
   "outputs": [
    {
     "name": "stderr",
     "output_type": "stream",
     "text": [
      "\n",
      "Bad key \"text.kerning_factor\" on line 4 in\n",
      "/Users/jordan5560/opt/anaconda3/lib/python3.7/site-packages/matplotlib/mpl-data/stylelib/_classic_test_patch.mplstyle.\n",
      "You probably need to get an updated matplotlibrc file from\n",
      "https://github.com/matplotlib/matplotlib/blob/v3.1.3/matplotlibrc.template\n",
      "or from the matplotlib source distribution\n"
     ]
    }
   ],
   "source": [
    "import pandas as pd\n",
    "import numpy as np\n",
    "import matplotlib.pyplot as plt\n",
    "import seaborn as sns\n",
    "from sklearn.model_selection import train_test_split\n",
    "from sklearn import metrics\n",
    "import statsmodels.api as sm\n",
    "import statsmodels.formula.api as smf\n",
    "\n",
    "%matplotlib inline"
   ]
  },
  {
   "cell_type": "code",
   "execution_count": 3,
   "metadata": {},
   "outputs": [],
   "source": [
    "df_county = pd.read_csv(\"df_county.csv\")\n",
    "df_county = df_county.drop(columns=['Unnamed: 0','county','Pop.Density','Pop.Density.Normalized','FIPS'])\n",
    "df_county.columns = df_county.columns.str.replace('.','_')\n",
    "X = df_county.iloc[:,1:28]\n",
    "y = np.array(df_county.iloc[:,0]).reshape(-1,1)"
   ]
  },
  {
   "cell_type": "markdown",
   "metadata": {},
   "source": [
    "### Histogram of the Number of Stores in Each County"
   ]
  },
  {
   "cell_type": "code",
   "execution_count": 4,
   "metadata": {},
   "outputs": [
    {
     "data": {
      "text/plain": [
       "(array([19.,  5.,  2.,  0.,  1.,  0.,  0.,  0.,  0.,  1.]),\n",
       " array([ 1. ,  5.1,  9.2, 13.3, 17.4, 21.5, 25.6, 29.7, 33.8, 37.9, 42. ]),\n",
       " <a list of 10 Patch objects>)"
      ]
     },
     "execution_count": 4,
     "metadata": {},
     "output_type": "execute_result"
    },
    {
     "data": {
      "image/png": "[encoded data removed]",
      "text/plain": [
       "<Figure size 432x288 with 1 Axes>"
      ]
     },
     "metadata": {
      "needs_background": "light"
     },
     "output_type": "display_data"
    }
   ],
   "source": [
    "plt.hist(df_county['num_stores'])"
   ]
  },
  {
   "cell_type": "markdown",
   "metadata": {},
   "source": [
    "## Linear Regression"
   ]
  },
  {
   "cell_type": "code",
   "execution_count": 5,
   "metadata": {},
   "outputs": [
    {
     "name": "stdout",
     "output_type": "stream",
     "text": [
      "                            OLS Regression Results                            \n",
      "==============================================================================\n",
      "Dep. Variable:                      y   R-squared:                       0.979\n",
      "Model:                            OLS   Adj. R-squared:                  0.962\n",
      "Method:                 Least Squares   F-statistic:                     57.66\n",
      "Date:                Thu, 21 May 2020   Prob (F-statistic):           2.61e-10\n",
      "Time:                        21:43:58   Log-Likelihood:                -45.137\n",
      "No. Observations:                  28   AIC:                             116.3\n",
      "Df Residuals:                      15   BIC:                             133.6\n",
      "Df Model:                          12                                         \n",
      "Covariance Type:            nonrobust                                         \n",
      "===========================================================================================\n",
      "                              coef    std err          t      P>|t|      [0.025      0.975]\n",
      "-------------------------------------------------------------------------------------------\n",
      "const                      15.9042      6.374      2.495      0.025       2.318      29.490\n",
      "Total_Pop               -2.091e-05   3.77e-05     -0.555      0.587      -0.000    5.94e-05\n",
      "Household                6.144e-05   2.78e-05      2.207      0.043     2.1e-06       0.000\n",
      "Group_Quarters          -8.234e-05   6.37e-05     -1.292      0.216      -0.000    5.35e-05\n",
      "Total_HU                -5.671e-05      0.000     -0.538      0.599      -0.000       0.000\n",
      "Single_Detached             0.0001   4.25e-05      3.511      0.003    5.86e-05       0.000\n",
      "Single_Attached             0.0004   9.02e-05      4.717      0.000       0.000       0.001\n",
      "Two_to_Four             -2.184e-05   4.86e-05     -0.449      0.660      -0.000    8.19e-05\n",
      "Five_Plus                   0.0001    3.5e-05      3.680      0.002    5.42e-05       0.000\n",
      "Mobile_Homes               -0.0007      0.000     -3.597      0.003      -0.001      -0.000\n",
      "Occupied                   -0.0002      0.000     -1.236      0.235      -0.000       0.000\n",
      "Vacancy_Rate              -13.4950     19.913     -0.678      0.508     -55.939      28.949\n",
      "Persons_per_Household      -4.9339      2.006     -2.460      0.027      -9.209      -0.659\n",
      "size                     5.781e-05   9.81e-05      0.589      0.564      -0.000       0.000\n",
      "median_household_income    -0.0094      0.026     -0.366      0.719      -0.064       0.045\n",
      "==============================================================================\n",
      "Omnibus:                        0.696   Durbin-Watson:                   1.711\n",
      "Prob(Omnibus):                  0.706   Jarque-Bera (JB):                0.575\n",
      "Skew:                           0.326   Prob(JB):                        0.750\n",
      "Kurtosis:                       2.740   Cond. No.                     3.16e+17\n",
      "==============================================================================\n",
      "\n",
      "Warnings:\n",
      "[1] Standard Errors assume that the covariance matrix of the errors is correctly specified.\n",
      "[2] The smallest eigenvalue is 1.18e-21. This might indicate that there are\n",
      "strong multicollinearity problems or that the design matrix is singular.\n"
     ]
    }
   ],
   "source": [
    "X = sm.add_constant(X)\n",
    "est = sm.OLS(y, X).fit()\n",
    "print(est.summary())"
   ]
  },
  {
   "cell_type": "markdown",
   "metadata": {},
   "source": [
    "### Findings\n",
    "- R_squared of 0.979 means 97.9% of the variance in the number of stores is explained by our explanatory variables.\n",
    "- Out of all variables, the following are variables that are statistically significant*:\n",
    "    - Household\n",
    "    - Single Detached\n",
    "    - Single Attached\n",
    "    - Five Plus\n",
    "    - Mobile Homes\n",
    "    - Persons per Household\n",
    "\n",
    "*Assuming that the variable does not determine the number of stores, it is very unlikely that we will obtain the results at least as extreme as the results actually observed in the data."
   ]
  },
  {
   "cell_type": "markdown",
   "metadata": {},
   "source": [
    "### Training Linear Regression with Training Data"
   ]
  },
  {
   "cell_type": "code",
   "execution_count": 6,
   "metadata": {},
   "outputs": [
    {
     "name": "stdout",
     "output_type": "stream",
     "text": [
      "[[1 1 0 0 0 0]\n",
      " [1 0 1 0 0 0]\n",
      " [0 0 0 0 0 0]\n",
      " [0 0 0 0 0 0]\n",
      " [0 0 0 1 0 0]\n",
      " [0 0 0 1 0 0]]\n",
      "              precision    recall  f1-score   support\n",
      "\n",
      "         1.0       0.50      0.50      0.50         2\n",
      "         2.0       0.00      0.00      0.00         2\n",
      "         3.0       0.00      0.00      0.00         0\n",
      "         5.0       0.00      0.00      0.00         0\n",
      "         8.0       0.00      0.00      0.00         1\n",
      "         9.0       0.00      0.00      0.00         1\n",
      "\n",
      "    accuracy                           0.17         6\n",
      "   macro avg       0.08      0.08      0.08         6\n",
      "weighted avg       0.17      0.17      0.17         6\n",
      "\n"
     ]
    },
    {
     "name": "stderr",
     "output_type": "stream",
     "text": [
      "/Users/jordan5560/opt/anaconda3/lib/python3.7/site-packages/sklearn/metrics/_classification.py:1272: UndefinedMetricWarning: Precision and F-score are ill-defined and being set to 0.0 in labels with no predicted samples. Use `zero_division` parameter to control this behavior.\n",
      "  _warn_prf(average, modifier, msg_start, len(result))\n",
      "/Users/jordan5560/opt/anaconda3/lib/python3.7/site-packages/sklearn/metrics/_classification.py:1272: UndefinedMetricWarning: Recall and F-score are ill-defined and being set to 0.0 in labels with no true samples. Use `zero_division` parameter to control this behavior.\n",
      "  _warn_prf(average, modifier, msg_start, len(result))\n"
     ]
    }
   ],
   "source": [
    "X_train, X_test, y_train, y_test = train_test_split(X, y, test_size=0.2)\n",
    "reg = sm.OLS(y_train,X_train).fit()\n",
    "a = pd.DataFrame()\n",
    "a['y_pred'] = round(reg.predict(X_test))\n",
    "a['y_act'] = y_test\n",
    "print(metrics.confusion_matrix(a['y_act'], a['y_pred']))\n",
    "print(metrics.classification_report(a['y_act'], a['y_pred']))"
   ]
  },
  {
   "cell_type": "markdown",
   "metadata": {},
   "source": [
    "### Poisson Regression"
   ]
  },
  {
   "cell_type": "code",
   "execution_count": 8,
   "metadata": {},
   "outputs": [],
   "source": [
    "from statsmodels.genmod.families import Poisson"
   ]
  },
  {
   "cell_type": "code",
   "execution_count": 9,
   "metadata": {},
   "outputs": [
    {
     "name": "stdout",
     "output_type": "stream",
     "text": [
      "                 Generalized Linear Model Regression Results                  \n",
      "==============================================================================\n",
      "Dep. Variable:                      y   No. Observations:                   28\n",
      "Model:                            GLM   Df Residuals:                       15\n",
      "Model Family:                 Poisson   Df Model:                           12\n",
      "Link Function:                    log   Scale:                          1.0000\n",
      "Method:                          IRLS   Log-Likelihood:                -46.304\n",
      "Date:                Thu, 21 May 2020   Deviance:                       7.5075\n",
      "Time:                        21:44:06   Pearson chi2:                     8.34\n",
      "No. Iterations:                     5                                         \n",
      "Covariance Type:            nonrobust                                         \n",
      "===========================================================================================\n",
      "                              coef    std err          z      P>|z|      [0.025      0.975]\n",
      "-------------------------------------------------------------------------------------------\n",
      "const                      -0.9357      2.344     -0.399      0.690      -5.529       3.658\n",
      "Total_Pop               -1.326e-05   1.15e-05     -1.155      0.248   -3.57e-05    9.24e-06\n",
      "Household                8.448e-06   7.79e-06      1.084      0.278   -6.83e-06    2.37e-05\n",
      "Group_Quarters          -2.168e-05    1.9e-05     -1.141      0.254   -5.89e-05    1.56e-05\n",
      "Total_HU                -1.226e-05   3.76e-05     -0.326      0.744    -8.6e-05    6.15e-05\n",
      "Single_Detached          2.347e-05   1.06e-05      2.208      0.027    2.64e-06    4.43e-05\n",
      "Single_Attached          5.035e-05   2.09e-05      2.412      0.016    9.43e-06    9.13e-05\n",
      "Two_to_Four              3.845e-09   1.25e-05      0.000      1.000   -2.45e-05    2.45e-05\n",
      "Five_Plus                 3.06e-06   9.09e-06      0.337      0.736   -1.48e-05    2.09e-05\n",
      "Mobile_Homes            -8.915e-05   5.79e-05     -1.540      0.124      -0.000    2.43e-05\n",
      "Occupied                 1.592e-05   4.33e-05      0.367      0.713    -6.9e-05       0.000\n",
      "Vacancy_Rate                4.9805      7.491      0.665      0.506      -9.701      19.662\n",
      "Persons_per_Household      -0.1421      0.778     -0.183      0.855      -1.667       1.383\n",
      "size                     3.892e-05   3.67e-05      1.060      0.289   -3.31e-05       0.000\n",
      "median_household_income     0.0172      0.008      2.028      0.043       0.001       0.034\n",
      "===========================================================================================\n"
     ]
    }
   ],
   "source": [
    "model_poisson = sm.GLM(y,X, family=Poisson()).fit()\n",
    "print(model_poisson.summary())"
   ]
  },
  {
   "cell_type": "markdown",
   "metadata": {},
   "source": [
    "### Training Poisson model with Training Data"
   ]
  },
  {
   "cell_type": "code",
   "execution_count": 10,
   "metadata": {},
   "outputs": [],
   "source": [
    "X_train, X_test, y_train, y_test = train_test_split(X, y, test_size=0.2)"
   ]
  },
  {
   "cell_type": "code",
   "execution_count": 17,
   "metadata": {},
   "outputs": [
    {
     "name": "stdout",
     "output_type": "stream",
     "text": [
      "[[0 1 0 0 0 0 0 0]\n",
      " [1 0 0 0 0 0 0 0]\n",
      " [1 0 0 0 0 0 0 0]\n",
      " [0 0 1 0 0 0 0 0]\n",
      " [0 0 0 0 0 0 1 0]\n",
      " [0 0 0 0 0 0 0 1]\n",
      " [0 0 0 0 0 0 0 0]\n",
      " [0 0 0 0 0 0 0 0]]\n",
      "              precision    recall  f1-score   support\n",
      "\n",
      "         1.0       0.00      0.00      0.00       1.0\n",
      "         2.0       0.00      0.00      0.00       1.0\n",
      "         4.0       0.00      0.00      0.00       1.0\n",
      "         7.0       0.00      0.00      0.00       1.0\n",
      "        11.0       0.00      0.00      0.00       1.0\n",
      "        13.0       0.00      0.00      0.00       1.0\n",
      "        21.0       0.00      0.00      0.00       0.0\n",
      "        27.0       0.00      0.00      0.00       0.0\n",
      "\n",
      "    accuracy                           0.00       6.0\n",
      "   macro avg       0.00      0.00      0.00       6.0\n",
      "weighted avg       0.00      0.00      0.00       6.0\n",
      "\n"
     ]
    },
    {
     "data": {
      "text/html": [
       "<div>\n",
       "<style scoped>\n",
       "    .dataframe tbody tr th:only-of-type {\n",
       "        vertical-align: middle;\n",
       "    }\n",
       "\n",
       "    .dataframe tbody tr th {\n",
       "        vertical-align: top;\n",
       "    }\n",
       "\n",
       "    .dataframe thead th {\n",
       "        text-align: right;\n",
       "    }\n",
       "</style>\n",
       "<table border=\"1\" class=\"dataframe\">\n",
       "  <thead>\n",
       "    <tr style=\"text-align: right;\">\n",
       "      <th></th>\n",
       "      <th>level_0</th>\n",
       "      <th>index</th>\n",
       "      <th>y_pred</th>\n",
       "      <th>y_act</th>\n",
       "    </tr>\n",
       "  </thead>\n",
       "  <tbody>\n",
       "    <tr>\n",
       "      <th>0</th>\n",
       "      <td>0</td>\n",
       "      <td>14</td>\n",
       "      <td>27.0</td>\n",
       "      <td>13</td>\n",
       "    </tr>\n",
       "    <tr>\n",
       "      <th>1</th>\n",
       "      <td>1</td>\n",
       "      <td>19</td>\n",
       "      <td>1.0</td>\n",
       "      <td>4</td>\n",
       "    </tr>\n",
       "    <tr>\n",
       "      <th>2</th>\n",
       "      <td>2</td>\n",
       "      <td>20</td>\n",
       "      <td>21.0</td>\n",
       "      <td>11</td>\n",
       "    </tr>\n",
       "    <tr>\n",
       "      <th>3</th>\n",
       "      <td>3</td>\n",
       "      <td>3</td>\n",
       "      <td>1.0</td>\n",
       "      <td>2</td>\n",
       "    </tr>\n",
       "    <tr>\n",
       "      <th>4</th>\n",
       "      <td>4</td>\n",
       "      <td>4</td>\n",
       "      <td>2.0</td>\n",
       "      <td>1</td>\n",
       "    </tr>\n",
       "    <tr>\n",
       "      <th>5</th>\n",
       "      <td>5</td>\n",
       "      <td>18</td>\n",
       "      <td>4.0</td>\n",
       "      <td>7</td>\n",
       "    </tr>\n",
       "  </tbody>\n",
       "</table>\n",
       "</div>"
      ],
      "text/plain": [
       "   level_0  index  y_pred  y_act\n",
       "0        0     14    27.0     13\n",
       "1        1     19     1.0      4\n",
       "2        2     20    21.0     11\n",
       "3        3      3     1.0      2\n",
       "4        4      4     2.0      1\n",
       "5        5     18     4.0      7"
      ]
     },
     "execution_count": 17,
     "metadata": {},
     "output_type": "execute_result"
    }
   ],
   "source": [
    "model_poisson2 = sm.GLM(y_train, X_train, family=Poisson()).fit()\n",
    "b = pd.DataFrame()\n",
    "b['y_pred'] = round(model_poisson2.predict(X_test))\n",
    "b['y_act'] = y_test\n",
    "b = a.reset_index()\n",
    "print(metrics.confusion_matrix(b['y_act'], b['y_pred']))\n",
    "print(metrics.classification_report(b['y_act'], b['y_pred']))\n",
    "b"
   ]
  },
  {
   "cell_type": "markdown",
   "metadata": {},
   "source": [
    "### Comparing the Two Regression Models"
   ]
  },
  {
   "cell_type": "markdown",
   "metadata": {},
   "source": [
    "The accuracy score for Linear Regression is 0.17, which is understandable since the dataset is small and thus the training dataset is even smaller; the data also follow a poisson distribution rather than a normal distribution, which is one of the key assumptions of Linear Regression.\n",
    "\n",
    "The accuracy score for Poisson Regression is 0, which means the model doesn't help predict the number of stores in a county. This is probably because the dataset is small and doesn't include counties with 0 store. If we did, we could instead employ a zero-inflated poisson model to account for the possibility that the distribution of zeros follows a different distribution, which we could use logistic regression to estimate that part separately."
   ]
  },
  {
   "cell_type": "markdown",
   "metadata": {},
   "source": [
    "### Examining Residuals for the Linear Model"
   ]
  },
  {
   "cell_type": "code",
   "execution_count": 38,
   "metadata": {},
   "outputs": [
    {
     "data": {
      "text/plain": [
       "<matplotlib.collections.PathCollection at 0x1a22d01d50>"
      ]
     },
     "execution_count": 38,
     "metadata": {},
     "output_type": "execute_result"
    },
    {
     "data": {
      "image/png": "[encoded data removed]",
      "text/plain": [
       "<Figure size 432x288 with 1 Axes>"
      ]
     },
     "metadata": {
      "needs_background": "light"
     },
     "output_type": "display_data"
    }
   ],
   "source": [
    "plt.scatter(y=est.resid,x = y)"
   ]
  },
  {
   "cell_type": "markdown",
   "metadata": {},
   "source": [
    "It is clear that the residuals (squared distance between the predicted Y value and the actual Y value) decrease as the actual y values increase. In other words, there's less variation in the number of stores between counties the more stores they have."
   ]
  }
 ],
 "metadata": {
  "kernelspec": {
   "display_name": "Python 3",
   "language": "python",
   "name": "python3"
  },
  "language_info": {
   "codemirror_mode": {
    "name": "ipython",
    "version": 3
   },
   "file_extension": ".py",
   "mimetype": "text/x-python",
   "name": "python",
   "nbconvert_exporter": "python",
   "pygments_lexer": "ipython3",
   "version": "3.7.4"
  }
 },
 "nbformat": 4,
 "nbformat_minor": 4
}
